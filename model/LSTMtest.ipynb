{
 "cells": [
  {
   "cell_type": "code",
   "execution_count": 15,
   "id": "26fd871b",
   "metadata": {},
   "outputs": [
    {
     "name": "stdout",
     "output_type": "stream",
     "text": [
      "Defaulting to user installation because normal site-packages is not writeable\n",
      "Collecting natsort\n",
      "  Downloading natsort-8.2.0-py3-none-any.whl (37 kB)\n",
      "Installing collected packages: natsort\n",
      "Successfully installed natsort-8.2.0\n"
     ]
    }
   ],
   "source": [
    "!pip install natsort"
   ]
  },
  {
   "cell_type": "code",
   "execution_count": 93,
   "id": "a321ffb5",
   "metadata": {},
   "outputs": [],
   "source": [
    "import numpy as np \n",
    "import pandas as pd \n",
    "import matplotlib.pyplot as plt\n",
    "\n",
    "import random\n",
    "import os\n",
    "import glob\n",
    "import natsort\n",
    "import tensorflow as tf\n",
    "\n",
    "from tqdm import trange\n",
    "from tensorflow.keras.utils import plot_model\n",
    "from keras.models import Model\n",
    "from keras.layers import Input\n",
    "from keras.layers import Dense\n",
    "from keras.layers import Flatten\n",
    "from keras.layers import Dropout\n",
    "from keras.layers import LSTM\n",
    "from keras.layers.convolutional import Conv2D\n",
    "from keras.layers.pooling import MaxPooling2D\n",
    "from tensorflow.keras.layers import concatenate\n",
    "\n",
    "from sklearn.preprocessing import MinMaxScaler, StandardScaler\n"
   ]
  },
  {
   "cell_type": "code",
   "execution_count": 2,
   "id": "57d53eb8",
   "metadata": {},
   "outputs": [],
   "source": [
    "dir2018_path = '/home/gahee/ETRI/new/2018_user'\n",
    "dir2019_path = '/home/gahee/ETRI/new/2019_user'\n",
    "dir2020_path = '/home/gahee/ETRI/new/2020_user'"
   ]
  },
  {
   "cell_type": "code",
   "execution_count": 3,
   "id": "8a392ccc",
   "metadata": {},
   "outputs": [],
   "source": [
    "n_timesteps = 500\n",
    "n_features = 4"
   ]
  },
  {
   "cell_type": "code",
   "execution_count": 4,
   "id": "f6eef322",
   "metadata": {},
   "outputs": [],
   "source": [
    "users2018 = os.listdir(dir2018_path)\n",
    "users2019 = os.listdir(dir2019_path)\n",
    "users2020 = os.listdir(dir2020_path)"
   ]
  },
  {
   "cell_type": "code",
   "execution_count": 5,
   "id": "6ac4998c",
   "metadata": {},
   "outputs": [],
   "source": [
    "s2018 = pd.read_csv('user_survey_2018.csv', index_col=0)\n",
    "s2019 = pd.read_csv('user_survey_2019.csv', index_col=0)\n",
    "s2020 = pd.read_csv('user_survey_2020.csv', index_col=0)"
   ]
  },
  {
   "cell_type": "code",
   "execution_count": 6,
   "id": "668d9d53",
   "metadata": {},
   "outputs": [],
   "source": [
    "# use glob to get all the csv files\n",
    "# in the folder\n",
    "\n",
    "def load_csv(dir_path, user):\n",
    "    csv_files = glob.glob(os.path.join(dir_path, str(user),\"*.csv\"))\n",
    "\n",
    "    df=[]\n",
    "\n",
    "    # getting csv files from the folder MyProject\n",
    "    path = \"./102/\"\n",
    "\n",
    "    # read all the files with extension .csv\n",
    "    # filenames = glob.glob(path + \"/*.csv\")\n",
    "    filenames = natsort.natsorted(os.listdir(os.path.join(dir_path, str(user))))\n",
    "    print('File names:', filenames)\n",
    "\n",
    "    # for loop to iterate all csv files\n",
    "    for file in filenames:\n",
    "        # reading csv files\n",
    "        df.append(pd.read_csv(os.path.join(dir_path, str(user), file),index_col=0))\n",
    "        print(\"\\nReading file = \",file)\n",
    "        print(pd.read_csv(os.path.join(dir_path, str(user), file),index_col=0))\n",
    "    \n",
    "    return df"
   ]
  },
  {
   "cell_type": "code",
   "execution_count": 7,
   "id": "9d1c0583",
   "metadata": {},
   "outputs": [
    {
     "name": "stdout",
     "output_type": "stream",
     "text": [
      "File names: ['1542244200_label.csv', '1542295920_label.csv', '1542471480_label.csv', '1542558180_label.csv', '1542728340_label.csv', '1542815760_label.csv', '1542902340_label.csv', '1543012320_label.csv', '1543275900_label.csv', '1543333680_label.csv']\n",
      "\n",
      "Reading file =  1542244200_label.csv\n",
      "             ts action  condition  emotionPositive  emotionTension\n",
      "0    1542244200  study          3                4               6\n",
      "1    1542244260  study          3                4               6\n",
      "2    1542244320  study          3                4               6\n",
      "3    1542244380  study          3                4               6\n",
      "4    1542244440  study          3                4               6\n",
      "..          ...    ...        ...              ...             ...\n",
      "646  1542289980  study          2                4               6\n",
      "647  1542290040  study          2                4               6\n",
      "648  1542290100  study          2                4               6\n",
      "649  1542290160  study          2                4               6\n",
      "650  1542290220  study          2                4               6\n",
      "\n",
      "[651 rows x 5 columns]\n",
      "\n",
      "Reading file =  1542295920_label.csv\n",
      "             ts action  condition  emotionPositive  emotionTension\n",
      "0    1542295920  sleep          0                7               1\n",
      "1    1542295980  sleep          0                7               1\n",
      "2    1542296040  sleep          0                7               1\n",
      "3    1542296100  sleep          0                7               1\n",
      "4    1542296160  sleep          0                7               1\n",
      "..          ...    ...        ...              ...             ...\n",
      "828  1542376740  study          2                2               5\n",
      "829  1542376920  study          2                2               5\n",
      "830  1542377280  study          2                2               5\n",
      "831  1542378180  study          2                2               5\n",
      "832  1542379140  study          2                2               5\n",
      "\n",
      "[833 rows x 5 columns]\n",
      "\n",
      "Reading file =  1542471480_label.csv\n",
      "             ts  action  condition  emotionPositive  emotionTension\n",
      "0    1542471480  travel          0                7               4\n",
      "1    1542471540  travel          0                7               4\n",
      "2    1542471660  travel          0                7               4\n",
      "3    1542471720  travel          0                7               4\n",
      "4    1542473280   sleep          0                7               2\n",
      "..          ...     ...        ...              ...             ...\n",
      "724  1542551220   study          2                2               5\n",
      "725  1542551280   study          2                2               5\n",
      "726  1542551340   study          2                2               5\n",
      "727  1542551400   study          2                2               5\n",
      "728  1542551460   study          2                2               5\n",
      "\n",
      "[729 rows x 5 columns]\n",
      "\n",
      "Reading file =  1542558180_label.csv\n",
      "             ts          action  condition  emotionPositive  emotionTension\n",
      "0    1542558180           sleep          0                7               2\n",
      "1    1542558420           sleep          0                7               2\n",
      "2    1542558720           sleep          0                7               2\n",
      "3    1542558840           sleep          0                7               2\n",
      "4    1542558960           sleep          0                7               2\n",
      "..          ...             ...        ...              ...             ...\n",
      "756  1542632820            work          2                5               6\n",
      "757  1542632880            work          2                5               6\n",
      "758  1542632940            work          2                5               6\n",
      "759  1542633000            work          2                5               6\n",
      "760  1542636420  recreation_etc          2                7               4\n",
      "\n",
      "[761 rows x 5 columns]\n",
      "\n",
      "Reading file =  1542728340_label.csv\n",
      "             ts         action  condition  emotionPositive  emotionTension\n",
      "0    1542728340      household          0                6               5\n",
      "1    1542728400      household          0                6               5\n",
      "2    1542728520          sleep          0                5               5\n",
      "3    1542728580          sleep          0                5               5\n",
      "4    1542728700          sleep          0                5               5\n",
      "..          ...            ...        ...              ...             ...\n",
      "796  1542806760  entertainment          2                7               6\n",
      "797  1542806820  entertainment          2                7               6\n",
      "798  1542806880  entertainment          2                7               6\n",
      "799  1542806940  entertainment          2                7               6\n",
      "800  1542807000  entertainment          2                7               6\n",
      "\n",
      "[801 rows x 5 columns]\n",
      "\n",
      "Reading file =  1542815760_label.csv\n",
      "             ts     action  condition  emotionPositive  emotionTension\n",
      "0    1542815760  household          0                6               5\n",
      "1    1542815820  household          0                6               5\n",
      "2    1542815880  household          0                6               5\n",
      "3    1542815940  household          0                6               5\n",
      "4    1542816000  household          0                6               5\n",
      "..          ...        ...        ...              ...             ...\n",
      "891  1542897000      hobby          2                7               7\n",
      "892  1542897060      hobby          2                7               7\n",
      "893  1542897120      hobby          2                7               7\n",
      "894  1542897180      hobby          2                7               7\n",
      "895  1542897240      hobby          2                7               7\n",
      "\n",
      "[896 rows x 5 columns]\n",
      "\n",
      "Reading file =  1542902340_label.csv\n",
      "             ts  action  condition  emotionPositive  emotionTension\n",
      "0    1542902340   sleep          0                5               3\n",
      "1    1542902520   sleep          0                5               3\n",
      "2    1542903240   sleep          0                5               3\n",
      "3    1542903960   sleep          0                5               3\n",
      "4    1542904560   sleep          0                5               3\n",
      "..          ...     ...        ...              ...             ...\n",
      "878  1542981240  travel          0                7               5\n",
      "879  1542981480  travel          0                7               5\n",
      "880  1542981600  travel          0                7               5\n",
      "881  1542981720  travel          0                7               5\n",
      "882  1542984360   sleep          0                5               3\n",
      "\n",
      "[883 rows x 5 columns]\n",
      "\n",
      "Reading file =  1543012320_label.csv\n",
      "             ts  action  condition  emotionPositive  emotionTension\n",
      "0    1543012320  travel          1                2               3\n",
      "1    1543012740  travel          1                2               3\n",
      "2    1543012800  travel          1                2               3\n",
      "3    1543012860  travel          1                2               3\n",
      "4    1543012920  travel          1                2               3\n",
      "..          ...     ...        ...              ...             ...\n",
      "751  1543065660  travel          1                4               4\n",
      "752  1543065840  travel          1                4               4\n",
      "753  1543065960  travel          1                4               4\n",
      "754  1543066080  travel          1                4               4\n",
      "755  1543066200    meal          2                5               4\n",
      "\n",
      "[756 rows x 5 columns]\n",
      "\n",
      "Reading file =  1543275900_label.csv\n",
      "             ts          action  condition  emotionPositive  emotionTension\n",
      "0    1543275900          travel          2                5               5\n",
      "1    1543275960          travel          2                5               5\n",
      "2    1543276020          travel          2                5               5\n",
      "3    1543276080          travel          2                5               5\n",
      "4    1543276140          travel          2                5               5\n",
      "..          ...             ...        ...              ...             ...\n",
      "653  1543320540  recreation_etc          2                6               5\n",
      "654  1543320840  recreation_etc          2                6               5\n",
      "655  1543321020  recreation_etc          2                6               5\n",
      "656  1543321140  recreation_etc          2                6               5\n",
      "657  1543321500  recreation_etc          2                6               5\n",
      "\n",
      "[658 rows x 5 columns]\n",
      "\n",
      "Reading file =  1543333680_label.csv\n",
      "             ts action  condition  emotionPositive  emotionTension\n",
      "0    1543333680   meal          2                7               7\n",
      "1    1543333740   meal          2                7               7\n",
      "2    1543333920   meal          2                7               7\n",
      "3    1543334220   meal          2                7               7\n",
      "4    1543334400   meal          2                7               7\n",
      "..          ...    ...        ...              ...             ...\n",
      "819  1543408440   meal          2                7               6\n",
      "820  1543408500   meal          2                7               6\n",
      "821  1543408560   meal          2                7               6\n",
      "822  1543408620   meal          2                7               6\n",
      "823  1543408680   meal          2                7               6\n",
      "\n",
      "[824 rows x 5 columns]\n"
     ]
    }
   ],
   "source": [
    "df = load_csv(dir2018_path, 1)"
   ]
  },
  {
   "cell_type": "code",
   "execution_count": 8,
   "id": "15676685",
   "metadata": {},
   "outputs": [],
   "source": [
    "# action 숫자로 대체\n",
    "map_action = {'sleep':0, 'personal_care':1, 'work':2, 'study':2,'household':3, 'care_housemem':4\\\n",
    "             , 'recreation_media':5, 'entertainment':5, 'outdoor_act':5, 'hobby':5, \\\n",
    "              'recreation_etc':5, 'shop':5, 'communitiy_interaction':6, \\\n",
    "             'socialising':6,'travel':7, 'meal':8}\n",
    "col = ['action']"
   ]
  },
  {
   "cell_type": "code",
   "execution_count": 9,
   "id": "58616491",
   "metadata": {},
   "outputs": [],
   "source": [
    "# 길이 최솟값으로 행 자르기\n",
    "# 필요없는 열 삭제\n",
    "\n",
    "def df_min(df):\n",
    "    new_df = df\n",
    "    min = len(new_df[0]) \n",
    "\n",
    "    for i in range(len(new_df)):\n",
    "        new_df[i].columns = new_df[i].columns.str.replace(' ', '')\n",
    "        if (min>len(new_df[i])):\n",
    "            min=len(new_df[i])\n",
    "\n",
    "    for i in range(len(new_df)):\n",
    "        new_df[i][col]=new_df[i][col].applymap(map_action.get)\n",
    "        new_df[i]=new_df[i].iloc[:, 1:]\n",
    "\n",
    "    for i in range(len(new_df)):\n",
    "        new_df[i]=new_df[i].truncate(after=min-1,axis=0)  \n",
    "#         print(len(new_df[i]))\n",
    "    \n",
    "    return new_df\n",
    "\n"
   ]
  },
  {
   "cell_type": "code",
   "execution_count": 10,
   "id": "8c300960",
   "metadata": {},
   "outputs": [
    {
     "data": {
      "text/html": [
       "<div>\n",
       "<style scoped>\n",
       "    .dataframe tbody tr th:only-of-type {\n",
       "        vertical-align: middle;\n",
       "    }\n",
       "\n",
       "    .dataframe tbody tr th {\n",
       "        vertical-align: top;\n",
       "    }\n",
       "\n",
       "    .dataframe thead th {\n",
       "        text-align: right;\n",
       "    }\n",
       "</style>\n",
       "<table border=\"1\" class=\"dataframe\">\n",
       "  <thead>\n",
       "    <tr style=\"text-align: right;\">\n",
       "      <th></th>\n",
       "      <th>ts</th>\n",
       "      <th>action</th>\n",
       "      <th>condition</th>\n",
       "      <th>emotionPositive</th>\n",
       "      <th>emotionTension</th>\n",
       "    </tr>\n",
       "  </thead>\n",
       "  <tbody>\n",
       "    <tr>\n",
       "      <th>0</th>\n",
       "      <td>1542244200</td>\n",
       "      <td>study</td>\n",
       "      <td>3</td>\n",
       "      <td>4</td>\n",
       "      <td>6</td>\n",
       "    </tr>\n",
       "    <tr>\n",
       "      <th>1</th>\n",
       "      <td>1542244260</td>\n",
       "      <td>study</td>\n",
       "      <td>3</td>\n",
       "      <td>4</td>\n",
       "      <td>6</td>\n",
       "    </tr>\n",
       "    <tr>\n",
       "      <th>2</th>\n",
       "      <td>1542244320</td>\n",
       "      <td>study</td>\n",
       "      <td>3</td>\n",
       "      <td>4</td>\n",
       "      <td>6</td>\n",
       "    </tr>\n",
       "    <tr>\n",
       "      <th>3</th>\n",
       "      <td>1542244380</td>\n",
       "      <td>study</td>\n",
       "      <td>3</td>\n",
       "      <td>4</td>\n",
       "      <td>6</td>\n",
       "    </tr>\n",
       "    <tr>\n",
       "      <th>4</th>\n",
       "      <td>1542244440</td>\n",
       "      <td>study</td>\n",
       "      <td>3</td>\n",
       "      <td>4</td>\n",
       "      <td>6</td>\n",
       "    </tr>\n",
       "  </tbody>\n",
       "</table>\n",
       "</div>"
      ],
      "text/plain": [
       "           ts action  condition  emotionPositive  emotionTension\n",
       "0  1542244200  study          3                4               6\n",
       "1  1542244260  study          3                4               6\n",
       "2  1542244320  study          3                4               6\n",
       "3  1542244380  study          3                4               6\n",
       "4  1542244440  study          3                4               6"
      ]
     },
     "execution_count": 10,
     "metadata": {},
     "output_type": "execute_result"
    }
   ],
   "source": [
    "df[0].head()"
   ]
  },
  {
   "cell_type": "code",
   "execution_count": 17,
   "id": "d01e639a",
   "metadata": {},
   "outputs": [],
   "source": [
    "# 일정 timestep 길이로 통일하기\n",
    "\n",
    "def df_slice(df, num):\n",
    "    new_df = df\n",
    "\n",
    "    for i in range(len(new_df)):\n",
    "        new_df[i].columns = new_df[i].columns.str.replace(' ', '')\n",
    "        if (num>len(new_df[i])):\n",
    "            num=len(new_df[i])\n",
    "\n",
    "    for i in range(len(new_df)):\n",
    "        new_df[i][col]=new_df[i][col].applymap(map_action.get)\n",
    "        new_df[i]=new_df[i].iloc[:, 1:]\n",
    "\n",
    "    for i in range(len(new_df)):\n",
    "        new_df[i]=new_df[i].truncate(after=num-1,axis=0)  \n",
    "#         print(len(new_df[i]))\n",
    "    \n",
    "    return new_df\n"
   ]
  },
  {
   "cell_type": "code",
   "execution_count": 54,
   "id": "25941ff6",
   "metadata": {},
   "outputs": [
    {
     "data": {
      "text/html": [
       "<div>\n",
       "<style scoped>\n",
       "    .dataframe tbody tr th:only-of-type {\n",
       "        vertical-align: middle;\n",
       "    }\n",
       "\n",
       "    .dataframe tbody tr th {\n",
       "        vertical-align: top;\n",
       "    }\n",
       "\n",
       "    .dataframe thead th {\n",
       "        text-align: right;\n",
       "    }\n",
       "</style>\n",
       "<table border=\"1\" class=\"dataframe\">\n",
       "  <thead>\n",
       "    <tr style=\"text-align: right;\">\n",
       "      <th></th>\n",
       "      <th>action</th>\n",
       "      <th>condition</th>\n",
       "      <th>emotionPositive</th>\n",
       "      <th>emotionTension</th>\n",
       "    </tr>\n",
       "  </thead>\n",
       "  <tbody>\n",
       "    <tr>\n",
       "      <th>0</th>\n",
       "      <td>2</td>\n",
       "      <td>3</td>\n",
       "      <td>4</td>\n",
       "      <td>6</td>\n",
       "    </tr>\n",
       "    <tr>\n",
       "      <th>1</th>\n",
       "      <td>2</td>\n",
       "      <td>3</td>\n",
       "      <td>4</td>\n",
       "      <td>6</td>\n",
       "    </tr>\n",
       "    <tr>\n",
       "      <th>2</th>\n",
       "      <td>2</td>\n",
       "      <td>3</td>\n",
       "      <td>4</td>\n",
       "      <td>6</td>\n",
       "    </tr>\n",
       "    <tr>\n",
       "      <th>3</th>\n",
       "      <td>2</td>\n",
       "      <td>3</td>\n",
       "      <td>4</td>\n",
       "      <td>6</td>\n",
       "    </tr>\n",
       "    <tr>\n",
       "      <th>4</th>\n",
       "      <td>2</td>\n",
       "      <td>3</td>\n",
       "      <td>4</td>\n",
       "      <td>6</td>\n",
       "    </tr>\n",
       "  </tbody>\n",
       "</table>\n",
       "</div>"
      ],
      "text/plain": [
       "   action  condition  emotionPositive  emotionTension\n",
       "0       2          3                4               6\n",
       "1       2          3                4               6\n",
       "2       2          3                4               6\n",
       "3       2          3                4               6\n",
       "4       2          3                4               6"
      ]
     },
     "execution_count": 54,
     "metadata": {},
     "output_type": "execute_result"
    }
   ],
   "source": [
    "new_df = df_min(df)\n",
    "new_df[0].head()"
   ]
  },
  {
   "cell_type": "code",
   "execution_count": 18,
   "id": "1dc87870",
   "metadata": {},
   "outputs": [
    {
     "data": {
      "text/html": [
       "<div>\n",
       "<style scoped>\n",
       "    .dataframe tbody tr th:only-of-type {\n",
       "        vertical-align: middle;\n",
       "    }\n",
       "\n",
       "    .dataframe tbody tr th {\n",
       "        vertical-align: top;\n",
       "    }\n",
       "\n",
       "    .dataframe thead th {\n",
       "        text-align: right;\n",
       "    }\n",
       "</style>\n",
       "<table border=\"1\" class=\"dataframe\">\n",
       "  <thead>\n",
       "    <tr style=\"text-align: right;\">\n",
       "      <th></th>\n",
       "      <th>action</th>\n",
       "      <th>condition</th>\n",
       "      <th>emotionPositive</th>\n",
       "      <th>emotionTension</th>\n",
       "    </tr>\n",
       "  </thead>\n",
       "  <tbody>\n",
       "    <tr>\n",
       "      <th>0</th>\n",
       "      <td>2</td>\n",
       "      <td>3</td>\n",
       "      <td>4</td>\n",
       "      <td>6</td>\n",
       "    </tr>\n",
       "    <tr>\n",
       "      <th>1</th>\n",
       "      <td>2</td>\n",
       "      <td>3</td>\n",
       "      <td>4</td>\n",
       "      <td>6</td>\n",
       "    </tr>\n",
       "    <tr>\n",
       "      <th>2</th>\n",
       "      <td>2</td>\n",
       "      <td>3</td>\n",
       "      <td>4</td>\n",
       "      <td>6</td>\n",
       "    </tr>\n",
       "    <tr>\n",
       "      <th>3</th>\n",
       "      <td>2</td>\n",
       "      <td>3</td>\n",
       "      <td>4</td>\n",
       "      <td>6</td>\n",
       "    </tr>\n",
       "    <tr>\n",
       "      <th>4</th>\n",
       "      <td>2</td>\n",
       "      <td>3</td>\n",
       "      <td>4</td>\n",
       "      <td>6</td>\n",
       "    </tr>\n",
       "  </tbody>\n",
       "</table>\n",
       "</div>"
      ],
      "text/plain": [
       "   action  condition  emotionPositive  emotionTension\n",
       "0       2          3                4               6\n",
       "1       2          3                4               6\n",
       "2       2          3                4               6\n",
       "3       2          3                4               6\n",
       "4       2          3                4               6"
      ]
     },
     "execution_count": 18,
     "metadata": {},
     "output_type": "execute_result"
    }
   ],
   "source": [
    "new_df = df_slice(df, n_timesteps)\n",
    "new_df[0].head()"
   ]
  },
  {
   "cell_type": "code",
   "execution_count": 53,
   "id": "085a5b66",
   "metadata": {},
   "outputs": [],
   "source": [
    "def load_pmStress(survey_file, user):\n",
    "    df2 = pd.read_csv(survey_file,index_col=0)\n",
    "    df2=df2.drop(['sleep'],axis=1)\n",
    "    df2=df2[df2['userId'] == user]\n",
    "    pmStress=df2['pmStress']\n",
    "    \n",
    "    return pmStress\n",
    "    "
   ]
  },
  {
   "cell_type": "code",
   "execution_count": 57,
   "id": "bba826bd",
   "metadata": {},
   "outputs": [],
   "source": [
    "def load_Sleep(survey_file, user):\n",
    "    df2 = pd.read_csv(survey_file,index_col=0)\n",
    "    df2=df2[df2['userId'] == user]\n",
    "    sleep = df2['sleep']\n",
    "    \n",
    "    return sleep\n",
    "    "
   ]
  },
  {
   "cell_type": "code",
   "execution_count": 58,
   "id": "5e016eb8",
   "metadata": {},
   "outputs": [],
   "source": [
    "pmStress = load_pmStress(\"user_survey_2018.csv\", 1)"
   ]
  },
  {
   "cell_type": "code",
   "execution_count": 59,
   "id": "921c0c19",
   "metadata": {},
   "outputs": [],
   "source": [
    "sleep = load_Sleep(\"user_survey_2018.csv\", 1)"
   ]
  },
  {
   "cell_type": "code",
   "execution_count": null,
   "id": "23b002b8",
   "metadata": {},
   "outputs": [],
   "source": []
  },
  {
   "cell_type": "code",
   "execution_count": null,
   "id": "fe8617ca",
   "metadata": {},
   "outputs": [],
   "source": []
  },
  {
   "cell_type": "code",
   "execution_count": 22,
   "id": "67309af7",
   "metadata": {},
   "outputs": [
    {
     "name": "stdout",
     "output_type": "stream",
     "text": [
      "\u001b[0m\u001b[01;34m2018_user\u001b[0m/  \u001b[01;34m2020_user\u001b[0m/  \u001b[01;34moriginal\u001b[0m/   user_survey_2018.csv  user_survey_2020.csv\r\n",
      "\u001b[01;34m2019_user\u001b[0m/  \u001b[01;34mnew\u001b[0m/        test.ipynb  user_survey_2019.csv\r\n"
     ]
    }
   ],
   "source": [
    "ls"
   ]
  },
  {
   "cell_type": "code",
   "execution_count": 23,
   "id": "a5089652",
   "metadata": {},
   "outputs": [
    {
     "data": {
      "image/png": "[encoded data removed]",
      "text/plain": [
       "<Figure size 432x288 with 4 Axes>"
      ]
     },
     "metadata": {
      "needs_background": "light"
     },
     "output_type": "display_data"
    }
   ],
   "source": [
    "# 시각화\n",
    "values = new_df[0].values\n",
    "# specify columns to plot\n",
    "groups = [0, 1, 2, 3]\n",
    "i = 1\n",
    "# plot each column\n",
    "plt.figure()\n",
    "for group in groups:\n",
    " plt.subplot(len(groups), 1, i)\n",
    " plt.plot(values[:, group])\n",
    " plt.title(new_df[0].columns[group], y=0.5, loc='right')\n",
    " i += 1\n",
    "plt.show()"
   ]
  },
  {
   "cell_type": "code",
   "execution_count": null,
   "id": "fd518655",
   "metadata": {},
   "outputs": [],
   "source": []
  },
  {
   "cell_type": "markdown",
   "id": "c48b48f0",
   "metadata": {},
   "source": [
    "# Load data"
   ]
  },
  {
   "cell_type": "markdown",
   "id": "0bb855f6",
   "metadata": {},
   "source": [
    "1. 2018 data"
   ]
  },
  {
   "cell_type": "code",
   "execution_count": 38,
   "id": "b68a91e5",
   "metadata": {},
   "outputs": [],
   "source": [
    "def load_train_testdata(dfX1, dfX2, dfY):\n",
    "  X1 = []\n",
    "  X2 = [] \n",
    "  Y = []\n",
    "\n",
    "  for i in range(10):\n",
    "    X1.append(dfX1[i])\n",
    "    X2.append(dfX2[i])\n",
    "    Y.append(dfY[i])\n",
    "  \n",
    "  trainingX1 = np.array(X1[:8])\n",
    "  trainingX2 = np.array(X2[:8])  \n",
    "  trainingY = np.array(Y[:8])\n",
    "\n",
    "  testX1 = np.array(X1[8:])\n",
    "  testX2 = np.array(X2[8:])\n",
    "  testY = np.array(Y[8:])\n",
    "\n",
    "  return trainingX1, trainingX2, trainingY, testX1, testX2, testY\n",
    "\n",
    "\n"
   ]
  },
  {
   "cell_type": "code",
   "execution_count": 60,
   "id": "ac79bc97",
   "metadata": {},
   "outputs": [],
   "source": [
    "trainingX1, trainingX2, trainingY, testX1, testX2, testY = load_train_testdata(new_df, sleep, pmStress)"
   ]
  },
  {
   "cell_type": "code",
   "execution_count": 61,
   "id": "3a91a4ea",
   "metadata": {},
   "outputs": [
    {
     "name": "stdout",
     "output_type": "stream",
     "text": [
      "(8, 500, 4) (8,) (8,)\n"
     ]
    }
   ],
   "source": [
    "print(trainingX1.shape, trainingX2.shape, trainingY.shape)"
   ]
  },
  {
   "cell_type": "code",
   "execution_count": null,
   "id": "2e749fe7",
   "metadata": {},
   "outputs": [],
   "source": []
  },
  {
   "cell_type": "code",
   "execution_count": null,
   "id": "17fd1a88",
   "metadata": {},
   "outputs": [],
   "source": []
  },
  {
   "cell_type": "markdown",
   "id": "2f8db359",
   "metadata": {},
   "source": [
    "# Model"
   ]
  },
  {
   "cell_type": "markdown",
   "id": "d804c247",
   "metadata": {},
   "source": [
    "### Multiple inputs"
   ]
  },
  {
   "cell_type": "code",
   "execution_count": 90,
   "id": "5a9e076b",
   "metadata": {},
   "outputs": [],
   "source": [
    "import tensorflow as tf\n",
    "\n",
    "# from keras.utils import plot_model\n",
    "from keras.models import Model\n",
    "from keras.layers import Input\n",
    "from keras.layers import Dense\n",
    "from keras.layers import Flatten\n",
    "from keras.layers import Dropout\n",
    "from keras.layers import LSTM\n",
    "from keras.layers.convolutional import Conv2D\n",
    "from keras.layers.pooling import MaxPooling2D\n",
    "from tensorflow.keras.layers import concatenate\n",
    "\n",
    "\n",
    "from sklearn.preprocessing import MinMaxScaler"
   ]
  },
  {
   "cell_type": "code",
   "execution_count": 73,
   "id": "b99ba814",
   "metadata": {},
   "outputs": [
    {
     "name": "stdout",
     "output_type": "stream",
     "text": [
      "Model: \"model_2\"\n",
      "__________________________________________________________________________________________________\n",
      "Layer (type)                    Output Shape         Param #     Connected to                     \n",
      "==================================================================================================\n",
      "input_5 (InputLayer)            [(None, 500, 4)]     0                                            \n",
      "__________________________________________________________________________________________________\n",
      "lstm_2 (LSTM)                   (None, 100)          42000       input_5[0][0]                    \n",
      "__________________________________________________________________________________________________\n",
      "dropout_2 (Dropout)             (None, 100)          0           lstm_2[0][0]                     \n",
      "__________________________________________________________________________________________________\n",
      "dense_6 (Dense)                 (None, 1)            101         dropout_2[0][0]                  \n",
      "__________________________________________________________________________________________________\n",
      "input_6 (InputLayer)            [(None, 1)]          0                                            \n",
      "__________________________________________________________________________________________________\n",
      "concatenate_2 (Concatenate)     (None, 2)            0           dense_6[0][0]                    \n",
      "                                                                 input_6[0][0]                    \n",
      "__________________________________________________________________________________________________\n",
      "dense_7 (Dense)                 (None, 5)            15          concatenate_2[0][0]              \n",
      "__________________________________________________________________________________________________\n",
      "dense_8 (Dense)                 (None, 1)            6           dense_7[0][0]                    \n",
      "==================================================================================================\n",
      "Total params: 42,122\n",
      "Trainable params: 42,122\n",
      "Non-trainable params: 0\n",
      "__________________________________________________________________________________________________\n",
      "None\n"
     ]
    }
   ],
   "source": [
    "# first input model\n",
    "ts_data = Input(shape=(n_timesteps,n_features))\n",
    "lstm11 = LSTM(100, return_state=True)(ts_data)\n",
    "drop11 = Dropout(0.5)(lstm11)\n",
    "dense11 =  Dense(1)(drop11)\n",
    "# second input model\n",
    "sleep_data = Input(shape=(1))\n",
    "\n",
    "\n",
    "# merge input models\n",
    "merge = concatenate([dense11, sleep_data])\n",
    "# interpretation model\n",
    "hidden1 = Dense(5, activation='relu')(merge)\n",
    "output = Dense(1, activation='softmax')(hidden1)\n",
    "model = Model(inputs=[ts_data, sleep_data], outputs=output)\n",
    "# summarize layers\n",
    "print(model.summary())"
   ]
  },
  {
   "cell_type": "code",
   "execution_count": 74,
   "id": "10a7cf9c",
   "metadata": {},
   "outputs": [
    {
     "data": {
      "image/png": "[encoded data removed]",
      "text/plain": [
       "<IPython.core.display.Image object>"
      ]
     },
     "execution_count": 74,
     "metadata": {},
     "output_type": "execute_result"
    }
   ],
   "source": [
    "# plot graph\n",
    "plot_model(model, to_file='multiple_inputs.png')"
   ]
  },
  {
   "cell_type": "code",
   "execution_count": 79,
   "id": "870ac465",
   "metadata": {},
   "outputs": [],
   "source": [
    "MAX_EPOCHS = 20\n",
    "\n",
    "\n",
    "def compile_and_fit(model, train_X1, train_X2, train_y):\n",
    "#   early_stopping = tf.keras.callbacks.EarlyStopping(monitor='val_loss',\n",
    "#                                                     patience=patience,\n",
    "#                                                     mode='min')\n",
    "\n",
    "  model.compile(loss=tf.keras.losses.MeanSquaredError(),\n",
    "              optimizer=tf.keras.optimizers.Adam(1e-4),\n",
    "              metrics=['accuracy'])\n",
    "\n",
    "  history = model.fit([train_X1, train_X2], train_y, epochs=MAX_EPOCHS)\n",
    "  return history"
   ]
  },
  {
   "cell_type": "code",
   "execution_count": 80,
   "id": "1738bac7",
   "metadata": {},
   "outputs": [
    {
     "name": "stdout",
     "output_type": "stream",
     "text": [
      "Epoch 1/20\n",
      "1/1 [==============================] - 2s 2s/step - loss: 2.1250 - accuracy: 0.2500\n",
      "Epoch 2/20\n",
      "1/1 [==============================] - 0s 251ms/step - loss: 2.1250 - accuracy: 0.2500\n",
      "Epoch 3/20\n",
      "1/1 [==============================] - 0s 232ms/step - loss: 2.1250 - accuracy: 0.2500\n",
      "Epoch 4/20\n",
      "1/1 [==============================] - 0s 236ms/step - loss: 2.1250 - accuracy: 0.2500\n",
      "Epoch 5/20\n",
      "1/1 [==============================] - 0s 209ms/step - loss: 2.1250 - accuracy: 0.2500\n",
      "Epoch 6/20\n",
      "1/1 [==============================] - 0s 248ms/step - loss: 2.1250 - accuracy: 0.2500\n",
      "Epoch 7/20\n",
      "1/1 [==============================] - 0s 243ms/step - loss: 2.1250 - accuracy: 0.2500\n",
      "Epoch 8/20\n",
      "1/1 [==============================] - 0s 220ms/step - loss: 2.1250 - accuracy: 0.2500\n",
      "Epoch 9/20\n",
      "1/1 [==============================] - 0s 209ms/step - loss: 2.1250 - accuracy: 0.2500\n",
      "Epoch 10/20\n",
      "1/1 [==============================] - 0s 214ms/step - loss: 2.1250 - accuracy: 0.2500\n",
      "Epoch 11/20\n",
      "1/1 [==============================] - 0s 231ms/step - loss: 2.1250 - accuracy: 0.2500\n",
      "Epoch 12/20\n",
      "1/1 [==============================] - 0s 237ms/step - loss: 2.1250 - accuracy: 0.2500\n",
      "Epoch 13/20\n",
      "1/1 [==============================] - 0s 236ms/step - loss: 2.1250 - accuracy: 0.2500\n",
      "Epoch 14/20\n",
      "1/1 [==============================] - 0s 245ms/step - loss: 2.1250 - accuracy: 0.2500\n",
      "Epoch 15/20\n",
      "1/1 [==============================] - 0s 235ms/step - loss: 2.1250 - accuracy: 0.2500\n",
      "Epoch 16/20\n",
      "1/1 [==============================] - 0s 235ms/step - loss: 2.1250 - accuracy: 0.2500\n",
      "Epoch 17/20\n",
      "1/1 [==============================] - 0s 247ms/step - loss: 2.1250 - accuracy: 0.2500\n",
      "Epoch 18/20\n",
      "1/1 [==============================] - 0s 246ms/step - loss: 2.1250 - accuracy: 0.2500\n",
      "Epoch 19/20\n",
      "1/1 [==============================] - 0s 252ms/step - loss: 2.1250 - accuracy: 0.2500\n",
      "Epoch 20/20\n",
      "1/1 [==============================] - 0s 244ms/step - loss: 2.1250 - accuracy: 0.2500\n"
     ]
    }
   ],
   "source": [
    "history = compile_and_fit(model,trainingX1, trainingX2, trainingY)"
   ]
  },
  {
   "cell_type": "code",
   "execution_count": 83,
   "id": "5960b726",
   "metadata": {},
   "outputs": [],
   "source": [
    "\n",
    "# evaluate model\n",
    "loss, accuracy = model.evaluate([testX1, testX2], batch_size=1, verbose=0)"
   ]
  },
  {
   "cell_type": "code",
   "execution_count": 84,
   "id": "1268cce5",
   "metadata": {},
   "outputs": [
    {
     "name": "stdout",
     "output_type": "stream",
     "text": [
      "0.0 0.0\n"
     ]
    }
   ],
   "source": [
    "print(loss, accuracy)"
   ]
  },
  {
   "cell_type": "code",
   "execution_count": 92,
   "id": "bdb67196",
   "metadata": {},
   "outputs": [
    {
     "data": {
      "text/plain": [
       "Text(0, 0.5, 'loss')"
      ]
     },
     "execution_count": 92,
     "metadata": {},
     "output_type": "execute_result"
    },
    {
     "data": {
      "image/png": "[encoded data removed]",
      "text/plain": [
       "<Figure size 432x288 with 1 Axes>"
      ]
     },
     "metadata": {
      "needs_background": "light"
     },
     "output_type": "display_data"
    }
   ],
   "source": [
    "\n",
    "plt.plot(history.history['loss'])\n",
    "plt.xlabel(\"Epochs\")\n",
    "plt.ylabel('loss')\n"
   ]
  },
  {
   "cell_type": "code",
   "execution_count": 89,
   "id": "a4033821",
   "metadata": {},
   "outputs": [
    {
     "data": {
      "text/plain": [
       "(0.0, 2.2418750000000003)"
      ]
     },
     "execution_count": 89,
     "metadata": {},
     "output_type": "execute_result"
    },
    {
     "data": {
      "image/png": "[encoded data removed]",
      "text/plain": [
       "<Figure size 1152x576 with 2 Axes>"
      ]
     },
     "metadata": {
      "needs_background": "light"
     },
     "output_type": "display_data"
    }
   ],
   "source": []
  },
  {
   "cell_type": "code",
   "execution_count": 17,
   "id": "531d5bf8",
   "metadata": {},
   "outputs": [],
   "source": [
    "#2018\n",
    "save2018 = []\n",
    "\n",
    "for user in users2018:\n",
    "    for i in range(0, s2018.shape[0]):\n",
    "        row = s2018.iloc[i]\n",
    "        if int(user) == row['userId']:\n",
    "            for label in os.listdir(os.path.join(dir2018_path, user)):\n",
    "                if (int(''.join(filter(str.isdigit, label)))==row['ts']):\n",
    "                    save2018.append(os.path.join(dir2018_path, user,label))\n",
    "                  "
   ]
  },
  {
   "cell_type": "code",
   "execution_count": 18,
   "id": "12917b32",
   "metadata": {},
   "outputs": [],
   "source": [
    "for user in users2018:\n",
    "    if not os.path.exists(os.path.join(new_path, '2018_user',user)):\n",
    "        os.makedirs(os.path.join(new_path, '2018_user',user))\n",
    "    for i in range(0, s2018.shape[0]):\n",
    "        row = s2018.iloc[i]\n",
    "        if int(user) == row['userId']:\n",
    "            for label in os.listdir(os.path.join(dir2018_path, user)):\n",
    "                if (int(''.join(filter(str.isdigit, label)))==row['ts']):\n",
    "                    shutil.copyfile(os.path.join(dir2018_path,user,label), os.path.join(new_path, '2018_user', user,label))\n"
   ]
  },
  {
   "cell_type": "code",
   "execution_count": 24,
   "id": "1c376a28",
   "metadata": {},
   "outputs": [],
   "source": [
    "#2019\n",
    "save2019 = []\n",
    "\n",
    "for user in users2019:\n",
    "    for i in range(0, s2019.shape[0]):\n",
    "        row = s2019.iloc[i]\n",
    "        if int(user) == row['userId']:\n",
    "            for label in os.listdir(os.path.join(dir2019_path, user)):\n",
    "                if (int(''.join(filter(str.isdigit, label)))==row['ts']):\n",
    "                        save2019.append(os.path.join(dir2019_path, user,label))\n",
    "        \n",
    "    "
   ]
  },
  {
   "cell_type": "code",
   "execution_count": 25,
   "id": "ba5b1168",
   "metadata": {},
   "outputs": [],
   "source": [
    "for user in users2019:\n",
    "    if not os.path.exists(os.path.join(new_path, '2019_user',user)):\n",
    "        os.makedirs(os.path.join(new_path, '2019_user',user))\n",
    "    for i in range(0, s2019.shape[0]):\n",
    "        row = s2019.iloc[i]\n",
    "        if int(user) == row['userId']:\n",
    "            for label in os.listdir(os.path.join(dir2019_path, user)):\n",
    "                if (int(''.join(filter(str.isdigit, label)))==row['ts']):\n",
    "                    shutil.copyfile(os.path.join(dir2019_path,user,label), os.path.join(new_path, '2019_user', user,label))\n"
   ]
  },
  {
   "cell_type": "code",
   "execution_count": 104,
   "id": "c012bd54",
   "metadata": {},
   "outputs": [],
   "source": [
    "#2020\n",
    "save2020 = []\n",
    "\n",
    "for user in users2020:\n",
    "    for i in range(0, s2020.shape[0]):\n",
    "        row = s2020.iloc[i]\n",
    "        if int(''.join(filter(str.isdigit, user))) == row['userId']:\n",
    "            for label in os.listdir(os.path.join(dir2020_path, user)):\n",
    "                if (int(''.join(filter(str.isdigit, label)))==row['ts']):\n",
    "                        save2020.append(os.path.join(dir2020_path, user,label))\n",
    "        \n",
    "    "
   ]
  },
  {
   "cell_type": "code",
   "execution_count": 28,
   "id": "175b131e",
   "metadata": {},
   "outputs": [],
   "source": [
    "for user in users2020:\n",
    "    if not os.path.exists(os.path.join(new_path, '2020_user',user)):\n",
    "        os.makedirs(os.path.join(new_path, '2020_user',user))\n",
    "    for i in range(0, s2020.shape[0]):\n",
    "        row = s2020.iloc[i]\n",
    "        if int(''.join(filter(str.isdigit, user))) == row['userId']:\n",
    "            for label in os.listdir(os.path.join(dir2020_path, user)):\n",
    "                if (int(''.join(filter(str.isdigit, label)))==row['ts']):\n",
    "                    shutil.copyfile(os.path.join(dir2020_path,user,label), os.path.join(new_path, '2020_user', user,label))\n"
   ]
  },
  {
   "cell_type": "code",
   "execution_count": 46,
   "id": "b444afa7",
   "metadata": {},
   "outputs": [
    {
     "data": {
      "text/plain": [
       "200"
      ]
     },
     "execution_count": 46,
     "metadata": {},
     "output_type": "execute_result"
    }
   ],
   "source": [
    "int(''.join(filter(str.isdigit, '200 grams')))"
   ]
  },
  {
   "cell_type": "code",
   "execution_count": null,
   "id": "8a6edb84",
   "metadata": {},
   "outputs": [],
   "source": []
  },
  {
   "cell_type": "code",
   "execution_count": null,
   "id": "cc0eda17",
   "metadata": {},
   "outputs": [],
   "source": []
  },
  {
   "cell_type": "code",
   "execution_count": null,
   "id": "1e662f08",
   "metadata": {},
   "outputs": [],
   "source": []
  },
  {
   "cell_type": "code",
   "execution_count": 96,
   "id": "e1b324d2",
   "metadata": {},
   "outputs": [
    {
     "name": "stdout",
     "output_type": "stream",
     "text": [
      "1543012320_label.csv\n",
      "1542471480_label.csv\n",
      "1542244200_label.csv\n",
      "1542295920_label.csv\n",
      "1542902340_label.csv\n",
      "1542728340_label.csv\n",
      "1542815760_label.csv\n",
      "1543275900_label.csv\n",
      "1542558180_label.csv\n",
      "1543333680_label.csv\n"
     ]
    }
   ],
   "source": [
    "for file in os.listdir(os.path.join(dir2018_path,'1')):\n",
    "    print(file)\n",
    "    df_x = pd.read_csv(os.path.join(dir2018_path,'1',file), index_col=0, header=0)\n",
    "    XX = np.append(X, np.array(df_x.iloc[:600, 2:]))"
   ]
  }
 ],
 "metadata": {
  "kernelspec": {
   "display_name": "Python 3",
   "language": "python",
   "name": "python3"
  },
  "language_info": {
   "codemirror_mode": {
    "name": "ipython",
    "version": 3
   },
   "file_extension": ".py",
   "mimetype": "text/x-python",
   "name": "python",
   "nbconvert_exporter": "python",
   "pygments_lexer": "ipython3",
   "version": "3.6.9"
  }
 },
 "nbformat": 4,
 "nbformat_minor": 5
}
