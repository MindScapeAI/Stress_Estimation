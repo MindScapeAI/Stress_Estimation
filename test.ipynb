{
 "cells": [
  {
   "cell_type": "code",
   "execution_count": 1,
   "id": "a321ffb5",
   "metadata": {},
   "outputs": [
    {
     "name": "stdout",
     "output_type": "stream",
     "text": [
      "/raid/mnt/Yeoneui/ETRI\n"
     ]
    }
   ],
   "source": [
    "cd /raid/mnt/Yeoneui/ETRI"
   ]
  },
  {
   "cell_type": "code",
   "execution_count": 11,
   "id": "57d53eb8",
   "metadata": {},
   "outputs": [
    {
     "name": "stdout",
     "output_type": "stream",
     "text": [
      "1542246000_label.csv  1542598620_label.csv  1543113120_label.csv\r\n",
      "1542331380_label.csv  1542682860_label.csv  1543206960_label.csv\r\n",
      "1542413460_label.csv  1542766560_label.csv  1543282380_label.csv\r\n",
      "1542533880_label.csv  1542851160_label.csv  1543365960_label.csv\r\n"
     ]
    }
   ],
   "source": [
    "ls 2018_user/2"
   ]
  },
  {
   "cell_type": "code",
   "execution_count": 3,
   "id": "67309af7",
   "metadata": {},
   "outputs": [],
   "source": [
    "import os\n",
    "import numpy as np\n",
    "import pandas as pd\n",
    "import matplotlib.pyplot as plt"
   ]
  },
  {
   "cell_type": "code",
   "execution_count": 10,
   "id": "6ac4998c",
   "metadata": {},
   "outputs": [
    {
     "data": {
      "text/html": [
       "<div>\n",
       "<style scoped>\n",
       "    .dataframe tbody tr th:only-of-type {\n",
       "        vertical-align: middle;\n",
       "    }\n",
       "\n",
       "    .dataframe tbody tr th {\n",
       "        vertical-align: top;\n",
       "    }\n",
       "\n",
       "    .dataframe thead th {\n",
       "        text-align: right;\n",
       "    }\n",
       "</style>\n",
       "<table border=\"1\" class=\"dataframe\">\n",
       "  <thead>\n",
       "    <tr style=\"text-align: right;\">\n",
       "      <th></th>\n",
       "      <th>Unnamed: 0</th>\n",
       "      <th>ts</th>\n",
       "      <th>action</th>\n",
       "      <th>condition</th>\n",
       "      <th>emotionPositive</th>\n",
       "      <th>emotionTension</th>\n",
       "    </tr>\n",
       "  </thead>\n",
       "  <tbody>\n",
       "    <tr>\n",
       "      <th>0</th>\n",
       "      <td>0</td>\n",
       "      <td>1542244200</td>\n",
       "      <td>study</td>\n",
       "      <td>3</td>\n",
       "      <td>4</td>\n",
       "      <td>6</td>\n",
       "    </tr>\n",
       "    <tr>\n",
       "      <th>1</th>\n",
       "      <td>1</td>\n",
       "      <td>1542244260</td>\n",
       "      <td>study</td>\n",
       "      <td>3</td>\n",
       "      <td>4</td>\n",
       "      <td>6</td>\n",
       "    </tr>\n",
       "    <tr>\n",
       "      <th>2</th>\n",
       "      <td>2</td>\n",
       "      <td>1542244320</td>\n",
       "      <td>study</td>\n",
       "      <td>3</td>\n",
       "      <td>4</td>\n",
       "      <td>6</td>\n",
       "    </tr>\n",
       "    <tr>\n",
       "      <th>3</th>\n",
       "      <td>3</td>\n",
       "      <td>1542244380</td>\n",
       "      <td>study</td>\n",
       "      <td>3</td>\n",
       "      <td>4</td>\n",
       "      <td>6</td>\n",
       "    </tr>\n",
       "    <tr>\n",
       "      <th>4</th>\n",
       "      <td>4</td>\n",
       "      <td>1542244440</td>\n",
       "      <td>study</td>\n",
       "      <td>3</td>\n",
       "      <td>4</td>\n",
       "      <td>6</td>\n",
       "    </tr>\n",
       "    <tr>\n",
       "      <th>...</th>\n",
       "      <td>...</td>\n",
       "      <td>...</td>\n",
       "      <td>...</td>\n",
       "      <td>...</td>\n",
       "      <td>...</td>\n",
       "      <td>...</td>\n",
       "    </tr>\n",
       "    <tr>\n",
       "      <th>646</th>\n",
       "      <td>646</td>\n",
       "      <td>1542289980</td>\n",
       "      <td>study</td>\n",
       "      <td>2</td>\n",
       "      <td>4</td>\n",
       "      <td>6</td>\n",
       "    </tr>\n",
       "    <tr>\n",
       "      <th>647</th>\n",
       "      <td>647</td>\n",
       "      <td>1542290040</td>\n",
       "      <td>study</td>\n",
       "      <td>2</td>\n",
       "      <td>4</td>\n",
       "      <td>6</td>\n",
       "    </tr>\n",
       "    <tr>\n",
       "      <th>648</th>\n",
       "      <td>648</td>\n",
       "      <td>1542290100</td>\n",
       "      <td>study</td>\n",
       "      <td>2</td>\n",
       "      <td>4</td>\n",
       "      <td>6</td>\n",
       "    </tr>\n",
       "    <tr>\n",
       "      <th>649</th>\n",
       "      <td>649</td>\n",
       "      <td>1542290160</td>\n",
       "      <td>study</td>\n",
       "      <td>2</td>\n",
       "      <td>4</td>\n",
       "      <td>6</td>\n",
       "    </tr>\n",
       "    <tr>\n",
       "      <th>650</th>\n",
       "      <td>650</td>\n",
       "      <td>1542290220</td>\n",
       "      <td>study</td>\n",
       "      <td>2</td>\n",
       "      <td>4</td>\n",
       "      <td>6</td>\n",
       "    </tr>\n",
       "  </tbody>\n",
       "</table>\n",
       "<p>651 rows × 6 columns</p>\n",
       "</div>"
      ],
      "text/plain": [
       "     Unnamed: 0          ts action  condition  emotionPositive  emotionTension\n",
       "0             0  1542244200  study          3                4               6\n",
       "1             1  1542244260  study          3                4               6\n",
       "2             2  1542244320  study          3                4               6\n",
       "3             3  1542244380  study          3                4               6\n",
       "4             4  1542244440  study          3                4               6\n",
       "..          ...         ...    ...        ...              ...             ...\n",
       "646         646  1542289980  study          2                4               6\n",
       "647         647  1542290040  study          2                4               6\n",
       "648         648  1542290100  study          2                4               6\n",
       "649         649  1542290160  study          2                4               6\n",
       "650         650  1542290220  study          2                4               6\n",
       "\n",
       "[651 rows x 6 columns]"
      ]
     },
     "execution_count": 10,
     "metadata": {},
     "output_type": "execute_result"
    }
   ],
   "source": [
    "df = pd.read_csv('/raid/mnt/Yeoneui/ETRI/2018_user/1/1542244200_label.csv')\n",
    "df\n",
    "#print(df.shape)"
   ]
  },
  {
   "cell_type": "markdown",
   "id": "c48b48f0",
   "metadata": {},
   "source": [
    "## Load data"
   ]
  },
  {
   "cell_type": "code",
   "execution_count": null,
   "id": "b444afa7",
   "metadata": {},
   "outputs": [],
   "source": [
    "# load a single file as a numpy array\n",
    "def load_file(filepath):\n",
    " dataframe = read_csv(filepath, header=None, delim_whitespace=True)\n",
    " return dataframe.values"
   ]
  },
  {
   "cell_type": "code",
   "execution_count": null,
   "id": "cc0eda17",
   "metadata": {},
   "outputs": [],
   "source": [
    "# load a list of files into a 3D array of [samples, timesteps, features]\n",
    "def load_group(filenames, prefix=''):\n",
    " loaded = list()\n",
    " for name in filenames:\n",
    " data = load_file(prefix + name)\n",
    " loaded.append(data)\n",
    " # stack group so that features are the 3rd dimension\n",
    " loaded = dstack(loaded)\n",
    " return loaded"
   ]
  },
  {
   "cell_type": "code",
   "execution_count": null,
   "id": "1e662f08",
   "metadata": {},
   "outputs": [],
   "source": [
    "# load a dataset group, such as train or test\n",
    "def load_dataset_group(group, prefix=''):\n",
    " filepath = prefix + group + '/Inertial Signals/'\n",
    " # load all 9 files as a single array\n",
    " filenames = list()\n",
    " # total acceleration\n",
    " filenames += ['total_acc_x_'+group+'.txt', 'total_acc_y_'+group+'.txt', 'total_acc_z_'+group+'.txt']\n",
    " # body acceleration\n",
    " filenames += ['body_acc_x_'+group+'.txt', 'body_acc_y_'+group+'.txt', 'body_acc_z_'+group+'.txt']\n",
    " # body gyroscope\n",
    " filenames += ['body_gyro_x_'+group+'.txt', 'body_gyro_y_'+group+'.txt', 'body_gyro_z_'+group+'.txt']\n",
    " # load input data\n",
    " X = load_group(filenames, filepath)\n",
    " # load class output\n",
    " y = load_file(prefix + group + '/y_'+group+'.txt')\n",
    " return X, y"
   ]
  }
 ],
 "metadata": {
  "kernelspec": {
   "display_name": "Python 3",
   "language": "python",
   "name": "python3"
  },
  "language_info": {
   "codemirror_mode": {
    "name": "ipython",
    "version": 3
   },
   "file_extension": ".py",
   "mimetype": "text/x-python",
   "name": "python",
   "nbconvert_exporter": "python",
   "pygments_lexer": "ipython3",
   "version": "3.6.9"
  }
 },
 "nbformat": 4,
 "nbformat_minor": 5
}
