{
 "cells": [
  {
   "cell_type": "code",
   "execution_count": 1,
   "metadata": {
    "id": "dnPGWqW1hdSI"
   },
   "outputs": [],
   "source": [
    "import pandas as pd\n",
    "import numpy as np\n",
    "import os\n",
    "\n",
    "from sklearn.model_selection import train_test_split, GridSearchCV\n",
    "from sklearn.linear_model import LogisticRegression\n",
    "from sklearn.svm import SVC\n",
    "from sklearn.tree import DecisionTreeClassifier\n",
    "from xgboost import XGBClassifier\n",
    "\n",
    "from sklearn.metrics import confusion_matrix, accuracy_score, precision_score, recall_score, f1_score\n",
    "\n",
    "import matplotlib.pyplot as plt\n",
    "from matplotlib.colors import ListedColormap\n",
    "from matplotlib.text import Text\n",
    "import seaborn as sns\n",
    "%matplotlib inline\n"
   ]
  },
  {
   "cell_type": "code",
   "execution_count": 2,
   "metadata": {},
   "outputs": [
    {
     "name": "stdout",
     "output_type": "stream",
     "text": [
      "1. Average coeff between sleep and stress =  0.052\n",
      "uncorrelated\n",
      "\n",
      "2. Average coeff between sleepProblem and stress =  0.034\n",
      "uncorrelated\n",
      "\n",
      "3. Average coeff between amCondition and stress =  0.197\n",
      "correlated\n",
      "\n",
      "4. Average coeff between amEmotion and stress =  0.194\n",
      "correlated\n",
      "\n",
      "5. Average coeff between pmEmotion and stress =  0.337\n",
      "correlated\n",
      "\n",
      "6. Average coeff between pmFatigue and stress =  0.311\n",
      "correlated\n",
      "\n",
      "7. Average coeff between sleep_score and stress =  0.004\n",
      "uncorrelated\n",
      "\n",
      "['amCondition', 'amEmotion', 'pmEmotion', 'pmFatigue']\n",
      "[0.1968, 0.1938, 0.3369, 0.3105]\n"
     ]
    }
   ],
   "source": [
    "from sklearn.preprocessing import LabelEncoder\n",
    "from imblearn.over_sampling import SMOTE\n",
    "from collections import Counter\n",
    "from preprocess_data import oversampled_X, oversampled_y "
   ]
  },
  {
   "cell_type": "code",
   "execution_count": 3,
   "metadata": {
    "id": "UxkWX9pXk_Lk"
   },
   "outputs": [],
   "source": [
    "# Evaluate model\n",
    "\n",
    "def calculate_accuracy(model, x_test,y_test):\n",
    "    target_names = ['1 (Very much)','2 (Neutral)', '3 (Not at all)']\n",
    "    y_pred = model.predict(x_test)\n",
    "    predictions = [round(value) for value in y_pred]\n",
    "    accuracy = accuracy_score(y_test, predictions)\n",
    "    precision = precision_score(y_test, y_pred, average = 'weighted')\n",
    "    recall = recall_score(y_test, y_pred, average = 'weighted')\n",
    "    f1 = f1_score(y_test, y_pred, average = 'weighted')\n",
    "    print('Accuracy: %.4f' %(accuracy))\n",
    "    print('Precision: %.4f' %(precision))\n",
    "    print('Recall: %.4f' %(recall))\n",
    "    print('F1 score: %.4f' %(f1))"
   ]
  },
  {
   "cell_type": "code",
   "execution_count": 4,
   "metadata": {
    "id": "MGf4mEOqlOUG"
   },
   "outputs": [],
   "source": [
    "# Make training data and test data\n",
    "le = LabelEncoder()\n",
    "xtrain, xtest, ytrain, ytest = train_test_split(oversampled_X, oversampled_y, test_size=0.2, stratify=oversampled_y, random_state=42)\n",
    "ytrain = le.fit_transform(ytrain)\n",
    "ytest = le.fit_transform(ytest)"
   ]
  },
  {
   "cell_type": "code",
   "execution_count": 5,
   "metadata": {
    "id": "Orj_Cy_flRCB"
   },
   "outputs": [],
   "source": [
    "# 1. Train using Logistic Regression Model\n",
    "logreg = LogisticRegression(solver='newton-cg')\n",
    "logreg.fit(xtrain, ytrain)\n",
    "\n",
    "ypredict_logreg = logreg.predict(xtest)"
   ]
  },
  {
   "cell_type": "code",
   "execution_count": 6,
   "metadata": {
    "colab": {
     "base_uri": "https://localhost:8080/",
     "height": 551
    },
    "executionInfo": {
     "elapsed": 1079,
     "status": "ok",
     "timestamp": 1681300538961,
     "user": {
      "displayName": "김연의",
      "userId": "00495926666469303242"
     },
     "user_tz": -540
    },
    "id": "fnJez0G_nQKE",
    "outputId": "896c94a1-5522-494c-8782-32fc353ad827"
   },
   "outputs": [
    {
     "data": {
      "image/png": "[encoded data removed]",
      "text/plain": [
       "<Figure size 640x480 with 2 Axes>"
      ]
     },
     "metadata": {},
     "output_type": "display_data"
    }
   ],
   "source": [
    "# Evaluate\n",
    "cnf_matrix1 = confusion_matrix(ytest, ypredict_logreg)\n",
    "\n",
    "class_names=[\"Stressed\",\"Neutral\",\"Not Stressed\"] # name  of classes\n",
    "fig, ax = plt.subplots()\n",
    "tick_marks = np.arange(len(class_names))\n",
    "plt.xticks(tick_marks, class_names)\n",
    "plt.yticks(tick_marks, class_names)\n",
    "# create heatmap\n",
    "sns.heatmap(pd.DataFrame(cnf_matrix1), annot=True, cmap=\"YlGnBu\" ,fmt='g')\n",
    "ax.xaxis.set_label_position(\"top\")\n",
    "plt.tight_layout()\n",
    "plt.title('Confusion matrix', y=1.1)\n",
    "plt.ylabel('Actual label')\n",
    "plt.xlabel('Predicted label')\n",
    "\n",
    "Text(0.5,257.44,'Predicted label');"
   ]
  },
  {
   "cell_type": "code",
   "execution_count": 7,
   "metadata": {
    "colab": {
     "base_uri": "https://localhost:8080/"
    },
    "executionInfo": {
     "elapsed": 5,
     "status": "ok",
     "timestamp": 1681300538961,
     "user": {
      "displayName": "김연의",
      "userId": "00495926666469303242"
     },
     "user_tz": -540
    },
    "id": "8GrH4vE5nfN9",
    "outputId": "4e9407d9-f419-4945-a5c6-6b511305a703"
   },
   "outputs": [
    {
     "name": "stdout",
     "output_type": "stream",
     "text": [
      "Logistic regression model evaluation\n",
      "Accuracy: 0.6477\n",
      "Precision: 0.6500\n",
      "Recall: 0.6477\n",
      "F1 score: 0.6465\n"
     ]
    }
   ],
   "source": [
    "print(\"Logistic regression model evaluation\")\n",
    "calculate_accuracy(logreg,xtest,ytest)"
   ]
  },
  {
   "cell_type": "code",
   "execution_count": 8,
   "metadata": {
    "colab": {
     "base_uri": "https://localhost:8080/"
    },
    "executionInfo": {
     "elapsed": 4230,
     "status": "ok",
     "timestamp": 1681300543187,
     "user": {
      "displayName": "김연의",
      "userId": "00495926666469303242"
     },
     "user_tz": -540
    },
    "id": "J5UK2kFYm1lr",
    "outputId": "bd6b5e8b-596e-4882-dcc8-667d05fa1002"
   },
   "outputs": [
    {
     "name": "stdout",
     "output_type": "stream",
     "text": [
      "Best Score:  0.6831932773109244\n",
      "Best Parameters:  {'C': 5, 'gamma': 0.1}\n"
     ]
    }
   ],
   "source": [
    "# 2. SVM model\n",
    "# Find optimal value of C and gamma\n",
    "svm_param={'C':[1,5,10,20,40,100],\n",
    "      'gamma':[.1, .25, .5, 1]}\n",
    "\n",
    "# linear\n",
    "GS_linear=GridSearchCV(SVC(kernel='linear'),svm_param, cv=5)\n",
    "GS_linear.fit(xtrain, ytrain)\n",
    "print(\"Best Score: \", GS_linear.best_score_)\n",
    "print(\"Best Parameters: \", GS_linear.best_params_)\n",
    "\n",
    "model_linear = GS_linear.best_estimator_\n",
    "ypredict_linear = model_linear.predict(xtest)"
   ]
  },
  {
   "cell_type": "code",
   "execution_count": 9,
   "metadata": {
    "colab": {
     "base_uri": "https://localhost:8080/",
     "height": 551
    },
    "executionInfo": {
     "elapsed": 27,
     "status": "ok",
     "timestamp": 1681300543188,
     "user": {
      "displayName": "김연의",
      "userId": "00495926666469303242"
     },
     "user_tz": -540
    },
    "id": "Zvhn8YpO5cpg",
    "outputId": "87ca06c5-2585-4c00-fd61-107444b1e2e9"
   },
   "outputs": [
    {
     "data": {
      "image/png": "[encoded data removed]",
      "text/plain": [
       "<Figure size 640x480 with 2 Axes>"
      ]
     },
     "metadata": {},
     "output_type": "display_data"
    }
   ],
   "source": [
    "cnf_matrix2 = confusion_matrix(ytest, ypredict_linear)\n",
    "\n",
    "class_names=[\"Stressed\",\"Neutral\",\"Not Stressed\"] # name  of classes\n",
    "fig, ax = plt.subplots()\n",
    "tick_marks = np.arange(len(class_names))\n",
    "plt.xticks(tick_marks, class_names)\n",
    "plt.yticks(tick_marks, class_names)\n",
    "# create heatmap\n",
    "sns.heatmap(pd.DataFrame(cnf_matrix2), annot=True, cmap=\"YlGnBu\" ,fmt='g')\n",
    "ax.xaxis.set_label_position(\"top\")\n",
    "plt.tight_layout()\n",
    "plt.title('Confusion matrix', y=1.1)\n",
    "plt.ylabel('Actual label')\n",
    "plt.xlabel('Predicted label')\n",
    "\n",
    "Text(0.5,257.44,'Predicted label');"
   ]
  },
  {
   "cell_type": "code",
   "execution_count": 10,
   "metadata": {
    "colab": {
     "base_uri": "https://localhost:8080/"
    },
    "executionInfo": {
     "elapsed": 25,
     "status": "ok",
     "timestamp": 1681300543188,
     "user": {
      "displayName": "김연의",
      "userId": "00495926666469303242"
     },
     "user_tz": -540
    },
    "id": "aCBspcTdqyL1",
    "outputId": "1d7b6e3f-e19a-4d19-e589-148e542332bc"
   },
   "outputs": [
    {
     "name": "stdout",
     "output_type": "stream",
     "text": [
      "Linear SVM model evaluation\n",
      "Accuracy: 0.6779\n",
      "Precision: 0.6975\n",
      "Recall: 0.6779\n",
      "F1 score: 0.6814\n"
     ]
    }
   ],
   "source": [
    "print(\"Linear SVM model evaluation\")\n",
    "calculate_accuracy(model_linear,xtest,ytest)"
   ]
  },
  {
   "cell_type": "code",
   "execution_count": 11,
   "metadata": {
    "colab": {
     "base_uri": "https://localhost:8080/"
    },
    "executionInfo": {
     "elapsed": 7505,
     "status": "ok",
     "timestamp": 1681300550673,
     "user": {
      "displayName": "김연의",
      "userId": "00495926666469303242"
     },
     "user_tz": -540
    },
    "id": "ssP2dmniokJo",
    "outputId": "dae5798e-c3c2-44e4-ef03-256061b80d96"
   },
   "outputs": [
    {
     "name": "stdout",
     "output_type": "stream",
     "text": [
      "Best Score:  0.7352941176470588\n",
      "Best Parameters:  {'C': 100, 'gamma': 1}\n"
     ]
    }
   ],
   "source": [
    "# rbf - nonlinear\n",
    "GS_rbf=GridSearchCV(SVC(kernel='rbf'),svm_param, cv=5)\n",
    "GS_rbf.fit(xtrain, ytrain)\n",
    "print(\"Best Score: \", GS_rbf.best_score_)\n",
    "print(\"Best Parameters: \", GS_rbf.best_params_)\n",
    "\n",
    "model_rbf = GS_rbf.best_estimator_\n",
    "ypredict_rbf = model_rbf.predict(xtest)"
   ]
  },
  {
   "cell_type": "code",
   "execution_count": 12,
   "metadata": {
    "colab": {
     "base_uri": "https://localhost:8080/",
     "height": 551
    },
    "executionInfo": {
     "elapsed": 1194,
     "status": "ok",
     "timestamp": 1681300551865,
     "user": {
      "displayName": "김연의",
      "userId": "00495926666469303242"
     },
     "user_tz": -540
    },
    "id": "yhZ7Gl96537A",
    "outputId": "e1200586-c80d-4b20-8c18-02d1f852e528"
   },
   "outputs": [
    {
     "data": {
      "image/png": "[encoded data removed]",
      "text/plain": [
       "<Figure size 640x480 with 2 Axes>"
      ]
     },
     "metadata": {},
     "output_type": "display_data"
    }
   ],
   "source": [
    "cnf_matrix3 = confusion_matrix(ytest, ypredict_rbf)\n",
    "\n",
    "class_names=[\"Stressed\",\"Neutral\",\"Not Stressed\"] # name  of classes\n",
    "fig, ax = plt.subplots()\n",
    "tick_marks = np.arange(len(class_names))\n",
    "plt.xticks(tick_marks, class_names)\n",
    "plt.yticks(tick_marks, class_names)\n",
    "# create heatmap\n",
    "sns.heatmap(pd.DataFrame(cnf_matrix3), annot=True, cmap=\"YlGnBu\" ,fmt='g')\n",
    "ax.xaxis.set_label_position(\"top\")\n",
    "plt.tight_layout()\n",
    "plt.title('Confusion matrix', y=1.1)\n",
    "plt.ylabel('Actual label')\n",
    "plt.xlabel('Predicted label')\n",
    "\n",
    "Text(0.5,257.44,'Predicted label');"
   ]
  },
  {
   "cell_type": "code",
   "execution_count": 13,
   "metadata": {
    "colab": {
     "base_uri": "https://localhost:8080/"
    },
    "executionInfo": {
     "elapsed": 15,
     "status": "ok",
     "timestamp": 1681300551865,
     "user": {
      "displayName": "김연의",
      "userId": "00495926666469303242"
     },
     "user_tz": -540
    },
    "id": "pYJz2PKso5tA",
    "outputId": "9ebefedc-e812-4686-fa97-32b31022b07a"
   },
   "outputs": [
    {
     "name": "stdout",
     "output_type": "stream",
     "text": [
      "RBF SVM model evaluation\n",
      "Accuracy: 0.7215\n",
      "Precision: 0.7403\n",
      "Recall: 0.7215\n",
      "F1 score: 0.7246\n"
     ]
    }
   ],
   "source": [
    "print(\"RBF SVM model evaluation\")\n",
    "calculate_accuracy(model_rbf,xtest,ytest)"
   ]
  },
  {
   "cell_type": "code",
   "execution_count": 14,
   "metadata": {
    "colab": {
     "base_uri": "https://localhost:8080/"
    },
    "executionInfo": {
     "elapsed": 7009,
     "status": "ok",
     "timestamp": 1681300558866,
     "user": {
      "displayName": "김연의",
      "userId": "00495926666469303242"
     },
     "user_tz": -540
    },
    "id": "KdBQ29PQo1Wu",
    "outputId": "51f39d3d-7b68-4bd1-ae71-ba3717c2235d"
   },
   "outputs": [
    {
     "name": "stdout",
     "output_type": "stream",
     "text": [
      "Best Score:  0.7008403361344538\n",
      "Best Parameters:  {'C': 100, 'gamma': 1}\n"
     ]
    }
   ],
   "source": [
    "# poly - nonlinear\n",
    "GS_poly=GridSearchCV(SVC(kernel='poly'),svm_param, cv=5)\n",
    "GS_poly.fit(xtrain, ytrain)\n",
    "print(\"Best Score: \", GS_poly.best_score_)\n",
    "print(\"Best Parameters: \", GS_poly.best_params_)\n",
    "\n",
    "model_poly = GS_poly.best_estimator_\n",
    "ypredict_poly = model_poly.predict(xtest)"
   ]
  },
  {
   "cell_type": "code",
   "execution_count": 15,
   "metadata": {
    "colab": {
     "base_uri": "https://localhost:8080/",
     "height": 550
    },
    "executionInfo": {
     "elapsed": 691,
     "status": "ok",
     "timestamp": 1681300559539,
     "user": {
      "displayName": "김연의",
      "userId": "00495926666469303242"
     },
     "user_tz": -540
    },
    "id": "c4aedQ-z6CAv",
    "outputId": "2a4ec8ae-0f81-4bf5-a18b-23c1df23ad76"
   },
   "outputs": [
    {
     "data": {
      "image/png": "[encoded data removed]",
      "text/plain": [
       "<Figure size 640x480 with 2 Axes>"
      ]
     },
     "metadata": {},
     "output_type": "display_data"
    }
   ],
   "source": [
    "cnf_matrix4 = confusion_matrix(ytest, ypredict_poly)\n",
    "\n",
    "class_names=[\"Stressed\",\"Neutral\",\"Not Stressed\"] # name  of classes\n",
    "fig, ax = plt.subplots()\n",
    "tick_marks = np.arange(len(class_names))\n",
    "plt.xticks(tick_marks, class_names)\n",
    "plt.yticks(tick_marks, class_names)\n",
    "# create heatmap\n",
    "sns.heatmap(pd.DataFrame(cnf_matrix4), annot=True, cmap=\"YlGnBu\" ,fmt='g')\n",
    "ax.xaxis.set_label_position(\"top\")\n",
    "plt.tight_layout()\n",
    "plt.title('Confusion matrix', y=1.1)\n",
    "plt.ylabel('Actual label')\n",
    "plt.xlabel('Predicted label')\n",
    "\n",
    "Text(0.5,257.44,'Predicted label');"
   ]
  },
  {
   "cell_type": "code",
   "execution_count": 16,
   "metadata": {
    "colab": {
     "base_uri": "https://localhost:8080/"
    },
    "executionInfo": {
     "elapsed": 9,
     "status": "ok",
     "timestamp": 1681300559540,
     "user": {
      "displayName": "김연의",
      "userId": "00495926666469303242"
     },
     "user_tz": -540
    },
    "id": "poRaqWv0o6Hy",
    "outputId": "b12cb9de-1a27-4c63-c83e-6db3b13da9d2"
   },
   "outputs": [
    {
     "name": "stdout",
     "output_type": "stream",
     "text": [
      "Poly SVM model evaluation\n",
      "Accuracy: 0.6711\n",
      "Precision: 0.6815\n",
      "Recall: 0.6711\n",
      "F1 score: 0.6599\n"
     ]
    }
   ],
   "source": [
    "print(\"Poly SVM model evaluation\")\n",
    "calculate_accuracy(model_poly,xtest,ytest)"
   ]
  },
  {
   "cell_type": "code",
   "execution_count": 17,
   "metadata": {
    "colab": {
     "base_uri": "https://localhost:8080/"
    },
    "executionInfo": {
     "elapsed": 5985,
     "status": "ok",
     "timestamp": 1681300565520,
     "user": {
      "displayName": "김연의",
      "userId": "00495926666469303242"
     },
     "user_tz": -540
    },
    "id": "pfooy1sGnweL",
    "outputId": "6d4307c1-9fcb-4a60-ece7-97f40bddf0c7"
   },
   "outputs": [
    {
     "name": "stdout",
     "output_type": "stream",
     "text": [
      "Best Score:  0.7655462184873949\n",
      "Best Parameters:  {'max_depth': None, 'min_samples_leaf': 1, 'min_samples_split': 2}\n"
     ]
    }
   ],
   "source": [
    "# 3. Decision Tree Classifier\n",
    "\n",
    "dt_param={\n",
    "    \"min_samples_leaf\":[1, 2, 3, 4, 5, 6, 7, 8, 9],\n",
    "    \"max_depth\":[2, 3, 4, 5, 6, None],\n",
    "    \"min_samples_split\":[2, 3, 4, 5, 6, 7, 8, 9, 10]\n",
    "}\n",
    "\n",
    "dt = DecisionTreeClassifier()\n",
    "GS_dt = GridSearchCV(dt, param_grid=dt_param, cv=5, refit=True)\n",
    "\n",
    "GS_dt.fit(xtrain, ytrain)\n",
    "\n",
    "dt = GS_dt.best_estimator_\n",
    "print(\"Best Score: \",GS_dt.best_score_)\n",
    "print(\"Best Parameters: \", GS_dt.best_params_)\n",
    "\n",
    "ypredict_dt = dt.predict(xtest)\n"
   ]
  },
  {
   "cell_type": "code",
   "execution_count": 18,
   "metadata": {
    "colab": {
     "base_uri": "https://localhost:8080/",
     "height": 551
    },
    "executionInfo": {
     "elapsed": 1043,
     "status": "ok",
     "timestamp": 1681300566558,
     "user": {
      "displayName": "김연의",
      "userId": "00495926666469303242"
     },
     "user_tz": -540
    },
    "id": "kUOcC0ym6e6T",
    "outputId": "aa12bfd2-b77e-4418-cd8b-e0644b1fd208"
   },
   "outputs": [
    {
     "data": {
      "image/png": "[encoded data removed]",
      "text/plain": [
       "<Figure size 640x480 with 2 Axes>"
      ]
     },
     "metadata": {},
     "output_type": "display_data"
    }
   ],
   "source": [
    "cnf_matrix5 = confusion_matrix(ytest, ypredict_dt)\n",
    "\n",
    "class_names=[\"Stressed\",\"Neutral\",\"Not Stressed\"] # name  of classes\n",
    "fig, ax = plt.subplots()\n",
    "tick_marks = np.arange(len(class_names))\n",
    "plt.xticks(tick_marks, class_names)\n",
    "plt.yticks(tick_marks, class_names)\n",
    "# create heatmap\n",
    "sns.heatmap(pd.DataFrame(cnf_matrix5), annot=True, cmap=\"YlGnBu\" ,fmt='g')\n",
    "ax.xaxis.set_label_position(\"top\")\n",
    "plt.tight_layout()\n",
    "plt.title('Confusion matrix', y=1.1)\n",
    "plt.ylabel('Actual label')\n",
    "plt.xlabel('Predicted label')\n",
    "\n",
    "Text(0.5,257.44,'Predicted label');"
   ]
  },
  {
   "cell_type": "code",
   "execution_count": 19,
   "metadata": {
    "colab": {
     "base_uri": "https://localhost:8080/"
    },
    "executionInfo": {
     "elapsed": 516,
     "status": "ok",
     "timestamp": 1681300589973,
     "user": {
      "displayName": "김연의",
      "userId": "00495926666469303242"
     },
     "user_tz": -540
    },
    "id": "KBkcy7Ak9cl9",
    "outputId": "ac9d4192-4fbc-49ab-8f2d-823dbaf770b5"
   },
   "outputs": [
    {
     "name": "stdout",
     "output_type": "stream",
     "text": [
      "Decision Tree Classifier evaluation\n",
      "Accuracy: 0.7383\n",
      "Precision: 0.7479\n",
      "Recall: 0.7383\n",
      "F1 score: 0.7384\n"
     ]
    }
   ],
   "source": [
    "print(\"Decision Tree Classifier evaluation\")\n",
    "calculate_accuracy(dt,xtest,ytest)"
   ]
  },
  {
   "cell_type": "code",
   "execution_count": 20,
   "metadata": {
    "colab": {
     "base_uri": "https://localhost:8080/"
    },
    "executionInfo": {
     "elapsed": 164679,
     "status": "ok",
     "timestamp": 1681300756139,
     "user": {
      "displayName": "김연의",
      "userId": "00495926666469303242"
     },
     "user_tz": -540
    },
    "id": "uDy8-qFipFvC",
    "outputId": "7e02295a-dd83-40d9-a84d-12ec3f235878"
   },
   "outputs": [
    {
     "name": "stdout",
     "output_type": "stream",
     "text": [
      "Best Score:  0.7722689075630251\n",
      "Best Parameters:  {'learning_rate': 0.1, 'max_depth': 7, 'n_estimators': 200}\n"
     ]
    }
   ],
   "source": [
    "# 4. XGBoost\n",
    "model_xgboost = XGBClassifier(\n",
    "    booster = 'gbtree',\n",
    "    objective = 'multi:softmax',\n",
    "    eval_metric='merror'\n",
    ")\n",
    "\n",
    "xgb_param_grid={\n",
    "    'n_estimators' : [100,200,300,400,500],\n",
    "    'learning_rate' : [0.01,0.05,0.1],\n",
    "    'max_depth' : [2,3,5,7],\n",
    "}\n",
    "\n",
    "xgb_grid=GridSearchCV(model_xgboost, param_grid = xgb_param_grid,  cv=5, refit=True)\n",
    "xgb_grid.fit(xtrain, ytrain)\n",
    "print(\"Best Score: \",xgb_grid.best_score_)\n",
    "print(\"Best Parameters: \", xgb_grid.best_params_)\n",
    "\n",
    "model_xgboost = xgb_grid.best_estimator_  \n",
    "model_xgboost.fit(xtrain,ytrain)\n",
    "\n",
    "ypredict_xgb = model_xgboost.predict(xtest)\n"
   ]
  },
  {
   "cell_type": "code",
   "execution_count": 21,
   "metadata": {
    "colab": {
     "base_uri": "https://localhost:8080/",
     "height": 551
    },
    "executionInfo": {
     "elapsed": 692,
     "status": "ok",
     "timestamp": 1681300756812,
     "user": {
      "displayName": "김연의",
      "userId": "00495926666469303242"
     },
     "user_tz": -540
    },
    "id": "7UZgD-mZ8rzB",
    "outputId": "3bf3a38a-d448-496a-f638-165af280e527"
   },
   "outputs": [
    {
     "data": {
      "image/png": "[encoded data removed]",
      "text/plain": [
       "<Figure size 640x480 with 2 Axes>"
      ]
     },
     "metadata": {},
     "output_type": "display_data"
    }
   ],
   "source": [
    "cnf_matrix6 = confusion_matrix(ytest, ypredict_xgb)\n",
    "\n",
    "class_names=[\"Stressed\",\"Neutral\",\"Not Stressed\"] # name  of classes\n",
    "fig, ax = plt.subplots()\n",
    "tick_marks = np.arange(len(class_names))\n",
    "plt.xticks(tick_marks, class_names)\n",
    "plt.yticks(tick_marks, class_names)\n",
    "# create heatmap\n",
    "sns.heatmap(pd.DataFrame(cnf_matrix6), annot=True, cmap=\"YlGnBu\" ,fmt='g')\n",
    "ax.xaxis.set_label_position(\"top\")\n",
    "plt.tight_layout()\n",
    "plt.title('Confusion matrix', y=1.1)\n",
    "plt.ylabel('Actual label')\n",
    "plt.xlabel('Predicted label')\n",
    "\n",
    "Text(0.5,257.44,'Predicted label');"
   ]
  },
  {
   "cell_type": "code",
   "execution_count": 22,
   "metadata": {
    "colab": {
     "base_uri": "https://localhost:8080/"
    },
    "executionInfo": {
     "elapsed": 6,
     "status": "ok",
     "timestamp": 1681300756813,
     "user": {
      "displayName": "김연의",
      "userId": "00495926666469303242"
     },
     "user_tz": -540
    },
    "id": "rI3pPwO3pLZE",
    "outputId": "e10f187e-3778-45e9-a25b-18e8300077c5"
   },
   "outputs": [
    {
     "name": "stdout",
     "output_type": "stream",
     "text": [
      "XGBoost model evaluation\n",
      "Accuracy: 0.7517\n",
      "Precision: 0.7638\n",
      "Recall: 0.7517\n",
      "F1 score: 0.7522\n"
     ]
    }
   ],
   "source": [
    "print(\"XGBoost model evaluation\")\n",
    "calculate_accuracy(model_xgboost,xtest,ytest)"
   ]
  }
 ],
 "metadata": {
  "colab": {
   "authorship_tag": "ABX9TyM0SlVENp1KQ1lCiW7Fd6xW",
   "provenance": []
  },
  "kernelspec": {
   "display_name": "Python 3 (ipykernel)",
   "language": "python",
   "name": "python3"
  },
  "language_info": {
   "codemirror_mode": {
    "name": "ipython",
    "version": 3
   },
   "file_extension": ".py",
   "mimetype": "text/x-python",
   "name": "python",
   "nbconvert_exporter": "python",
   "pygments_lexer": "ipython3",
   "version": "3.9.16"
  }
 },
 "nbformat": 4,
 "nbformat_minor": 1
}
